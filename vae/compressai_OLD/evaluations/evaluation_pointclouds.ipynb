{
 "cells": [
  {
   "cell_type": "markdown",
   "source": [
    "# PointCloud Evaluation\n",
    "\n",
    "Metrics evaluation on VAE PointCloud compression."
   ],
   "metadata": {}
  },
  {
   "cell_type": "code",
   "execution_count": null,
   "source": [
    "import seaborn as sns\n",
    "from matplotlib import pyplot as plt\n",
    "import pandas as pd\n",
    "import os"
   ],
   "outputs": [],
   "metadata": {}
  },
  {
   "cell_type": "code",
   "execution_count": null,
   "source": [
    "sns.set()\n",
    "sns.set_style(\"white\")"
   ],
   "outputs": [],
   "metadata": {}
  },
  {
   "cell_type": "code",
   "execution_count": null,
   "source": [
    "df = pd.DataFrame()\n",
    "\n",
    "csv_files_folder = \"./evaluation_files_KITTI_pc\"\n",
    "for csv_file in os.listdir(csv_files_folder):\n",
    "    df_temp = pd.read_csv(os.path.join(csv_files_folder, csv_file))\n",
    "    df = df.append(df_temp, ignore_index=True)\n",
    "\n",
    "df.head"
   ],
   "outputs": [],
   "metadata": {}
  },
  {
   "cell_type": "code",
   "execution_count": null,
   "source": [
    "import matplotlib\n",
    "\n",
    "matplotlib.use(\"pgf\")\n",
    "matplotlib.rcParams.update({\n",
    "    \"pgf.texsystem\": \"pdflatex\",\n",
    "    'font.family': 'serif',\n",
    "    'text.usetex': True,\n",
    "    'pgf.rcfonts': False,\n",
    "})\n",
    "\n",
    "%matplotlib inline\n",
    "\n",
    "metrics = [\"mean_eucl_dist\", \"psnr\"]\n",
    "m_labels = [\"Mean Euclidean distance d\", \"PSNR\"]\n",
    "\n",
    "for metric, m_label in zip(metrics, m_labels):\n",
    "    fig = plt.figure()\n",
    "    sns.scatterplot(x=\"q_bpp\", y=metric, hue=\"model\", data=df, s=2)\n",
    "    sns.regplot(x=\"q_bpp\", y=metric, data=df, lowess=False, scatter=False)\n",
    "    plt.ylabel(m_label)\n",
    "    plt.xlabel(\"bpp\")\n",
    "    plt.savefig(f\"for_latex/pointclouds_{metric}.pgf\", dpi=400)\n",
    "    plt.savefig(f\"for_latex/pointclouds_{metric}.png\", dpi=400)\n",
    "    plt.show()"
   ],
   "outputs": [],
   "metadata": {}
  },
  {
   "cell_type": "code",
   "execution_count": null,
   "source": [
    "med_largest = df.loc[df[\"mean_eucl_dist\"].nlargest(6).index][\"input_filename\"].values\n",
    "med_lowest = df.loc[df[\"mean_eucl_dist\"].nsmallest(6).index][\"input_filename\"].values\n",
    "print(med_largest)\n",
    "print(med_lowest)"
   ],
   "outputs": [],
   "metadata": {}
  }
 ],
 "metadata": {
  "orig_nbformat": 4,
  "language_info": {
   "name": "python",
   "version": "3.8.10",
   "mimetype": "text/x-python",
   "codemirror_mode": {
    "name": "ipython",
    "version": 3
   },
   "pygments_lexer": "ipython3",
   "nbconvert_exporter": "python",
   "file_extension": ".py"
  },
  "kernelspec": {
   "name": "python3",
   "display_name": "Python 3.8.10 64-bit"
  },
  "interpreter": {
   "hash": "e7370f93d1d0cde622a1f8e1c04877d8463912d04d973331ad4851f04de6915a"
  }
 },
 "nbformat": 4,
 "nbformat_minor": 2
}