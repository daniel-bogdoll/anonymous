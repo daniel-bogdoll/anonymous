{
 "cells": [
  {
   "cell_type": "markdown",
   "source": [
    "# KITTI Images Evaluation\n",
    "\n",
    "Create evaluation plot for metrics evaluation on KITTI dataset for VAE, GAN and JPEG"
   ],
   "metadata": {}
  },
  {
   "cell_type": "code",
   "execution_count": null,
   "source": [
    "import seaborn as sns\n",
    "from matplotlib import pyplot as plt\n",
    "import pandas as pd\n",
    "import os"
   ],
   "outputs": [],
   "metadata": {}
  },
  {
   "cell_type": "code",
   "execution_count": null,
   "source": [
    "sns.set()\n",
    "sns.set_style(\"white\")"
   ],
   "outputs": [],
   "metadata": {}
  },
  {
   "cell_type": "code",
   "execution_count": null,
   "source": [
    "df = pd.DataFrame()\n",
    "\n",
    "csv_files_folder = \"./evaluation_files_KITTI\"\n",
    "for csv_file in os.listdir(csv_files_folder):\n",
    "    df_temp = pd.read_csv(os.path.join(csv_files_folder, csv_file))\n",
    "    df = df.append(df_temp, ignore_index=True)"
   ],
   "outputs": [],
   "metadata": {}
  },
  {
   "cell_type": "code",
   "execution_count": null,
   "source": [
    "import matplotlib\n",
    "\n",
    "matplotlib.use(\"pgf\")\n",
    "matplotlib.rcParams.update({\n",
    "    \"pgf.texsystem\": \"pdflatex\",\n",
    "    \"font.family\": \"serif\",\n",
    "    \"text.usetex\": True,\n",
    "    \"pgf.rcfonts\": False,\n",
    "})\n",
    "matplotlib.rcParams.update({'font.size': 4})"
   ],
   "outputs": [],
   "metadata": {}
  },
  {
   "cell_type": "code",
   "execution_count": null,
   "source": [
    "df.head()"
   ],
   "outputs": [],
   "metadata": {}
  },
  {
   "cell_type": "code",
   "execution_count": null,
   "source": [
    "df[\"quality_level\"].unique()"
   ],
   "outputs": [],
   "metadata": {}
  },
  {
   "cell_type": "code",
   "execution_count": null,
   "source": [
    "df.loc[(df[\"model\"] == \"GAN\") & (df[\"quality_level\"] == \"high\"),\"quality_level\"] = \"medium\"\n",
    "df.loc[(df[\"model\"] == \"GAN\") & (df[\"quality_level\"] == \"super_high\"),\"quality_level\"] = \"high\"\n",
    "df[\"quality_level\"].unique()"
   ],
   "outputs": [],
   "metadata": {}
  },
  {
   "cell_type": "code",
   "execution_count": null,
   "source": [
    "df[\"input_shape\"] = df[\"input_shape\"].fillna(\"(256, 256)\")\n"
   ],
   "outputs": [],
   "metadata": {}
  },
  {
   "cell_type": "code",
   "execution_count": null,
   "source": [
    "df_256_256 = df[df[\"input_shape\"] == \"(256, 256)\"]\n",
    "df_256_256"
   ],
   "outputs": [],
   "metadata": {}
  },
  {
   "cell_type": "code",
   "execution_count": null,
   "source": [
    "df_256_256[df_256_256[\"q_bpp\"]<=1].groupby(\"model\").count()"
   ],
   "outputs": [],
   "metadata": {}
  },
  {
   "cell_type": "code",
   "execution_count": null,
   "source": [
    "%matplotlib inline\n",
    "\n",
    "import matplotlib.patches as mpatches\n",
    "\n",
    "metrics = [\"ms_ssim\", \"lpips\", \"mse\", \"psnr\"]\n",
    "m_labels = [\"MS-SSIM\", \"LPIPS\", \"MSE\", \"PSNR [dB]\"]\n",
    "\n",
    "fig = plt.figure(figsize=(5,1.5))\n",
    "data = df_256_256[(df_256_256[\"q_bpp\"] <= 1.5) & (df_256_256[\"q_bpp\"] >= 0.15)]\n",
    "\n",
    "for i, (metric, m_label) in enumerate(zip(metrics, m_labels)):\n",
    "    plt.subplot(1,4,i+1)\n",
    "    sns.regplot(x=\"q_bpp\", y=metric, data=data[data[\"model\"] == \"VAE\"], logx=True, scatter=False)\n",
    "    sns.regplot(x=\"q_bpp\", y=metric, data=data[data[\"model\"] == \"GAN\"], logx=True, scatter=False)\n",
    "    sns.regplot(x=\"q_bpp\", y=metric, data=data[data[\"model\"] == \"JPEG\"], logx=True, scatter=False)\n",
    "    plt.ylabel(\"\", size=7)\n",
    "    plt.title(m_label, size=7)\n",
    "    plt.xlabel(\"Bit-rate [bpp]\", size=7)\n",
    "    plt.xlim([0.00, 1.05])\n",
    "    plt.xticks(size=7)\n",
    "    plt.yticks(size=7)\n",
    "    vae_line = mpatches.Patch(color=\"#1f77b4\", label='VAE')\n",
    "    gan_line = mpatches.Patch(color=\"#ff7f0e\", label='GAN')\n",
    "    jpeg_line = mpatches.Patch(color=\"#2ca02c\", label='JPEG')\n",
    "fig.tight_layout()\n",
    "plt.legend(handles=[vae_line, gan_line, jpeg_line], fontsize=\"x-small\", bbox_to_anchor=(-0.8, -0.7), ncol=3)\n",
    "plt.savefig(f\"./for_latex/VAE_vs_GAN_vs_JPEG_line_flat.pgf\", dpi=400, bbox_inches='tight')\n",
    "plt.show()\n",
    "#plt.close()"
   ],
   "outputs": [],
   "metadata": {}
  }
 ],
 "metadata": {
  "orig_nbformat": 4,
  "language_info": {
   "name": "python",
   "version": "3.8.10",
   "mimetype": "text/x-python",
   "codemirror_mode": {
    "name": "ipython",
    "version": 3
   },
   "pygments_lexer": "ipython3",
   "nbconvert_exporter": "python",
   "file_extension": ".py"
  },
  "kernelspec": {
   "name": "python3",
   "display_name": "Python 3.8.10 64-bit"
  },
  "interpreter": {
   "hash": "e7370f93d1d0cde622a1f8e1c04877d8463912d04d973331ad4851f04de6915a"
  }
 },
 "nbformat": 4,
 "nbformat_minor": 2
}