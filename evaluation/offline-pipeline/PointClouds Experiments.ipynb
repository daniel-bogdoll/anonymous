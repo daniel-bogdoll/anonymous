{
 "cells": [
  {
   "cell_type": "markdown",
   "metadata": {},
   "source": [
    "# PointClouds Experiments\n",
    "\n",
    "This notebook shows inference experiments with VAE for point cloud compression."
   ]
  },
  {
   "cell_type": "code",
   "execution_count": null,
   "metadata": {},
   "outputs": [],
   "source": [
    "import numpy as np\n",
    "from matplotlib import pyplot as plt\n",
    "import plotly.express as px"
   ]
  },
  {
   "cell_type": "code",
   "execution_count": null,
   "metadata": {},
   "outputs": [],
   "source": [
    "point_cloud_example_path = #..."
   ]
  },
  {
   "cell_type": "code",
   "execution_count": null,
   "metadata": {},
   "outputs": [],
   "source": [
    "file = open(point_cloud_example_path, 'rb')\n",
    "data = np.load(file)\n",
    "cloud_2d = data['kitti_cloud_2d'][:,:,0:3]\n",
    "print(cloud_2d.shape)\n",
    "print(type(cloud_2d))\n",
    "print(cloud_2d.max())\n",
    "print(cloud_2d.min())"
   ]
  },
  {
   "cell_type": "code",
   "execution_count": null,
   "metadata": {},
   "outputs": [],
   "source": [
    "print(f\"Min:{cloud_2d.min()}\")\n",
    "print(f\"Max:{cloud_2d.max()}\")"
   ]
  },
  {
   "cell_type": "code",
   "execution_count": null,
   "metadata": {},
   "outputs": [],
   "source": [
    "xs = cloud_2d[:,:,0].flatten()\n",
    "ys = cloud_2d[:,:,1].flatten()\n",
    "zs = cloud_2d[:,:,2].flatten()\n",
    "c = np.sqrt(xs ** 2 + ys ** 2 + zs ** 2)\n",
    "\n",
    "df = px.data.iris()\n",
    "fig = px.scatter_3d(x=xs, y=ys, z=zs, color=c)\n",
    "fig.update_traces(marker_size=1)\n",
    "fig.show()"
   ]
  },
  {
   "cell_type": "code",
   "execution_count": null,
   "metadata": {},
   "outputs": [],
   "source": [
    "cloud_2d.shape"
   ]
  },
  {
   "cell_type": "markdown",
   "metadata": {},
   "source": [
    "# Evaluation"
   ]
  },
  {
   "cell_type": "code",
   "execution_count": null,
   "metadata": {},
   "outputs": [],
   "source": [
    "from torchvision import transforms\n",
    "from compressai.zoo import bmshj2018_hyperprior\n",
    "import torch"
   ]
  },
  {
   "cell_type": "code",
   "execution_count": null,
   "metadata": {},
   "outputs": [],
   "source": [
    "model_path = #..\n",
    "\n",
    "device = 'cuda' if torch.cuda.is_available() else 'cpu'\n",
    "net = bmshj2018_hyperprior(quality=5, pretrained=False)\n",
    "net.load_state_dict(torch.load(model_path))\n",
    "net.eval()\n",
    "net.to(device)\n",
    "print(f'Parameters: {sum(p.numel() for p in net.parameters())}')"
   ]
  },
  {
   "cell_type": "code",
   "execution_count": null,
   "metadata": {},
   "outputs": [],
   "source": [
    "cloud_2d_resized = np.resize(cloud_2d, (64,512,3))"
   ]
  },
  {
   "cell_type": "code",
   "execution_count": null,
   "metadata": {},
   "outputs": [],
   "source": [
    "input_tensor = transforms.ToTensor()(cloud_2d_resized).unsqueeze(0).to(device, dtype=torch.float)\n",
    "\n",
    "with torch.no_grad():\n",
    "    output_net = net.forward(input_tensor)\n",
    "output_net['x_hat']#.clamp_(0, 1)\n",
    "output_tensor = output_net['x_hat']\n",
    "\n",
    "output_cloud_2d = np.asarray(output_tensor.squeeze().cpu())\n",
    "recon_swapped = np.swapaxes(np.swapaxes(output_cloud_2d, 0, 2), 0,1)"
   ]
  },
  {
   "cell_type": "code",
   "execution_count": null,
   "metadata": {},
   "outputs": [],
   "source": [
    "plt.hist(recon_swapped.flatten())"
   ]
  },
  {
   "cell_type": "code",
   "execution_count": null,
   "metadata": {},
   "outputs": [],
   "source": [
    "xs = recon_swapped[:,:,0].flatten()\n",
    "ys = recon_swapped[:,:,1].flatten()\n",
    "zs = recon_swapped[:,:,2].flatten()\n",
    "c = np.sqrt(xs ** 2 + ys ** 2 + zs ** 2)\n",
    "\n",
    "df = px.data.iris()\n",
    "fig = px.scatter_3d(x=xs, y=ys, z=zs, color=c)\n",
    "fig.update_traces(marker_size=1)\n",
    "fig.show()"
   ]
  }
 ],
 "metadata": {
  "interpreter": {
   "hash": "e7370f93d1d0cde622a1f8e1c04877d8463912d04d973331ad4851f04de6915a"
  },
  "kernelspec": {
   "display_name": "Python 3.8.10 64-bit",
   "name": "python3"
  },
  "language_info": {
   "codemirror_mode": {
    "name": "ipython",
    "version": 3
   },
   "file_extension": ".py",
   "mimetype": "text/x-python",
   "name": "python",
   "nbconvert_exporter": "python",
   "pygments_lexer": "ipython3",
   "version": "3.8.10"
  },
  "orig_nbformat": 4
 },
 "nbformat": 4,
 "nbformat_minor": 2
}
