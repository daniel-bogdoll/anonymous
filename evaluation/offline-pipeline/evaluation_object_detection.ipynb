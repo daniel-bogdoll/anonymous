{
 "cells": [
  {
   "cell_type": "markdown",
   "source": [
    "# Object Detection Evaluation \n",
    "\n",
    "Print the relative error on object detection for VAE or GAN approach."
   ],
   "metadata": {}
  },
  {
   "cell_type": "code",
   "execution_count": null,
   "source": [
    "import warnings\n",
    "warnings.simplefilter(action=\"ignore\", category=FutureWarning)\n",
    "\n",
    "import seaborn as sns\n",
    "from matplotlib import pyplot as plt\n",
    "import pandas as pd\n",
    "import os"
   ],
   "outputs": [],
   "metadata": {}
  },
  {
   "cell_type": "code",
   "execution_count": null,
   "source": [
    "sns.set()\n",
    "sns.set_style(\"white\")"
   ],
   "outputs": [],
   "metadata": {}
  },
  {
   "cell_type": "code",
   "execution_count": null,
   "source": [
    "import matplotlib\n",
    "%matplotlib inline\n",
    "\n",
    "import matplotlib.patches as mpatches\n",
    "\n",
    "matplotlib.use(\"pgf\")\n",
    "matplotlib.rcParams.update({\n",
    "    \"pgf.texsystem\": \"pdflatex\",\n",
    "    \"font.family\": \"serif\",\n",
    "    \"text.usetex\": True,\n",
    "    \"pgf.rcfonts\": False,\n",
    "})\n",
    "\n",
    "matplotlib.rcParams.update({'font.size': 9})"
   ],
   "outputs": [],
   "metadata": {}
  },
  {
   "cell_type": "code",
   "execution_count": null,
   "source": [
    "df = pd.DataFrame()\n",
    "\n",
    "csv_files_folder = \"./object_detection_files_KITTI_NEW\"\n",
    "for csv_file in os.listdir(csv_files_folder):\n",
    "    df_temp = pd.read_csv(os.path.join(csv_files_folder, csv_file))\n",
    "    df = df.append(df_temp)\n",
    "\n",
    "df.loc[df[\"model\"]==\"GAN\", \"image_name\"].str.split(\"_\").str[0] + \".png\"\n",
    "min_confidence_score = 0.7\n",
    "df = df[df[\"score\"] >= min_confidence_score]\n",
    "df = df.loc[df[\"class\"].isin([1.0, 2.0, 3.0, 4.0])] #class\n",
    "df.loc[df[\"model\"]==\"GAN\", \"image_name\"] = df.loc[df[\"model\"]==\"GAN\", \"image_name\"].str.split(\"_\").str[0] + \".png\"\n",
    "\n",
    "df.head()"
   ],
   "outputs": [],
   "metadata": {}
  },
  {
   "cell_type": "code",
   "execution_count": null,
   "source": [
    "df_vae = df[df[\"model\"] == \"VAE\"]\n",
    "df_gan = df[df[\"model\"] == \"GAN\"]\n",
    "df_orig = df[df[\"model\"] == \"ORIG\"]\n",
    "\n",
    "df_vae_counts = df_vae.groupby([\"image_name\", \"quality_level\", \"model\"]).size().reset_index(name=\"counts\").dropna()\n",
    "df_vae_counts = df_vae_counts.pivot(index=\"image_name\", columns=[\"quality_level\", \"model\"], values=\"counts\").dropna()\n",
    "df_gan_counts = df_gan.groupby([\"image_name\", \"quality_level\", \"model\"]).size().reset_index(name=\"counts\").dropna()\n",
    "df_gan_counts = df_gan_counts.pivot(index=\"image_name\", columns=[\"quality_level\", \"model\"], values=\"counts\").dropna()\n",
    "df_orig_counts = df_orig.groupby([\"image_name\", \"quality_level\", \"model\"]).size().reset_index(name=\"counts\").dropna()\n",
    "df_orig_counts = df_orig_counts.pivot(index=\"image_name\", columns=[\"quality_level\", \"model\"], values=\"counts\").dropna()"
   ],
   "outputs": [],
   "metadata": {}
  },
  {
   "cell_type": "code",
   "execution_count": null,
   "source": [
    "print(df_vae[\"quality_level\"].unique())\n",
    "print(df_gan[\"quality_level\"].unique())"
   ],
   "outputs": [],
   "metadata": {}
  },
  {
   "cell_type": "code",
   "execution_count": null,
   "source": [
    "df_diff_vae = pd.DataFrame()\n",
    "df_diff_gan = pd.DataFrame()\n",
    "\n",
    "for quality_level in df_vae[\"quality_level\"].unique():\n",
    "    df_diff_vae[quality_level] = (df_vae_counts[quality_level][\"VAE\"] - df_orig_counts[\"original\"][\"ORIG\"]) / df_orig_counts[\"original\"][\"ORIG\"]\n",
    "\n",
    "for quality_level in df_gan[\"quality_level\"].unique():\n",
    "    df_diff_gan[quality_level] = (df_gan_counts[quality_level][\"GAN\"] - df_orig_counts[\"original\"][\"ORIG\"]) / df_orig_counts[\"original\"][\"ORIG\"]\n",
    "\n",
    "df_diff_vae = df_diff_vae.reset_index()\n",
    "df_diff_vae = pd.melt(df_diff_vae,  id_vars=[\"image_name\"], value_vars=df_vae[\"quality_level\"].unique())\n",
    "df_diff_vae[\"model\"] = \"VAE\"\n",
    "\n",
    "df_diff_gan = df_diff_gan.reset_index()\n",
    "df_diff_gan = pd.melt(df_diff_gan,  id_vars=[\"image_name\"], value_vars=df_gan[\"quality_level\"].unique())\n",
    "df_diff_gan[\"model\"] = \"GAN\"\n",
    "\n",
    "df_diff = df_diff_gan.append(df_diff_vae)\n",
    "df_diff[\"value\"] = df_diff[\"value\"] * 100\n",
    "df_diff = df_diff.reset_index()\n",
    "df_diff.head()"
   ],
   "outputs": [],
   "metadata": {}
  },
  {
   "cell_type": "code",
   "execution_count": null,
   "source": [
    "df_diff[\"variable\"].unique()"
   ],
   "outputs": [],
   "metadata": {}
  },
  {
   "cell_type": "code",
   "execution_count": null,
   "source": [
    "df_diff_avg = df_diff.groupby([\"variable\", \"model\"]).agg([\"mean\",\"std\"])\n",
    "df_diff_avg"
   ],
   "outputs": [],
   "metadata": {}
  },
  {
   "cell_type": "code",
   "execution_count": null,
   "source": [
    "df_diff[\"variable\"].unique()"
   ],
   "outputs": [],
   "metadata": {}
  },
  {
   "cell_type": "code",
   "execution_count": null,
   "source": [
    "df_eval = pd.DataFrame()\n",
    "\n",
    "csv_files_folder = \"./evaluation_files_KITTI\"\n",
    "for csv_file in os.listdir(csv_files_folder):\n",
    "    df_temp = pd.read_csv(os.path.join(csv_files_folder, csv_file))\n",
    "    df_eval = df_eval.append(df_temp, ignore_index=True)\n",
    "df_eval.loc[df_eval[\"model\"]==\"GAN\", \"input_filename\"] = df_eval.loc[df_eval[\"model\"]==\"GAN\", \"input_filename\"].astype(str).str.zfill(6).str.split(\".\").str[0] + \".png\"\n",
    "\n",
    "df_eval = df_eval[((df_eval[\"model\"] == \"VAE\") & (df_eval[\"input_shape\"] == \"(256, 256)\")) | (df_eval[\"model\"] == \"GAN\")]\n",
    "df_eval = df_eval.drop([\"input_shape\", \"output_filename\"], axis=1)\n",
    "df_eval"
   ],
   "outputs": [],
   "metadata": {}
  },
  {
   "cell_type": "code",
   "execution_count": null,
   "source": [
    "df_diff = df_diff[[\"image_name\", \"variable\", \"value\", \"model\"]].set_axis([\"input_filename\", \"quality_level\", \"value\", \"model\"], axis=\"columns\")\n",
    "df_diff"
   ],
   "outputs": [],
   "metadata": {}
  },
  {
   "cell_type": "code",
   "execution_count": null,
   "source": [
    "dff = pd.merge(df_eval, df_diff, how=\"inner\", on=[\"input_filename\", \"quality_level\", \"model\"])[[\"input_filename\", \"model\", \"quality_level\", \"value\", \"q_bpp\"]].dropna()\n",
    "dff"
   ],
   "outputs": [],
   "metadata": {}
  },
  {
   "cell_type": "code",
   "execution_count": null,
   "source": [
    "print(dff[dff[\"model\"] == \"GAN\"].count()[\"model\"])\n",
    "print(dff[dff[\"model\"] == \"VAE\"].count()[\"model\"])"
   ],
   "outputs": [],
   "metadata": {}
  },
  {
   "cell_type": "code",
   "execution_count": null,
   "source": [
    "fig = plt.figure(figsize=(4,2), tight_layout=True)\n",
    "data = dff[dff[\"q_bpp\"] <= 1.0]\n",
    "\n",
    "plt.xlabel(\"Difference [%]\")\n",
    "plt.ylabel(\"Bit-rate [bpp]\")\n",
    "fig = sns.kdeplot(data=data[data[\"model\"] == \"VAE\" ], x=\"value\", y=\"q_bpp\", levels=30, shade=True, alpha=.5, cut=20)\n",
    "fig = sns.kdeplot(data=data[data[\"model\"] == \"GAN\" ], x=\"value\", y=\"q_bpp\", levels=30, shade=True, alpha=.5, cut=20)\n",
    "plt.xlim(-125, 125)\n",
    "plt.ylim(0, 1)\n",
    "vae_kde = mpatches.Patch(color=\"#1f77b4\", label='VAE')\n",
    "gan_kde = mpatches.Patch(color=\"#ff7f0e\", label='GAN')\n",
    "plt.legend(handles=[vae_kde, gan_kde], fontsize=\"x-small\")\n",
    "\n",
    "plt.savefig(f\"for_latex/object_detection_kde.pgf\", dpi=400)\n",
    "plt.savefig(f\"for_latex/object_detection_kde.png\", dpi=400)\n",
    "\n",
    "plt.show()"
   ],
   "outputs": [],
   "metadata": {}
  }
 ],
 "metadata": {
  "orig_nbformat": 4,
  "language_info": {
   "name": "python",
   "version": "3.8.10",
   "mimetype": "text/x-python",
   "codemirror_mode": {
    "name": "ipython",
    "version": 3
   },
   "pygments_lexer": "ipython3",
   "nbconvert_exporter": "python",
   "file_extension": ".py"
  },
  "kernelspec": {
   "name": "python3",
   "display_name": "Python 3.8.10 64-bit"
  },
  "interpreter": {
   "hash": "e7370f93d1d0cde622a1f8e1c04877d8463912d04d973331ad4851f04de6915a"
  }
 },
 "nbformat": 4,
 "nbformat_minor": 2
}