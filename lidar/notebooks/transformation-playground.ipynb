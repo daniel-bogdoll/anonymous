{
 "cells": [
  {
   "cell_type": "markdown",
   "metadata": {},
   "source": [
    "# Play around with our Lidar Transformation using Toy Examples\n",
    "- Compare original data with our transformation\n",
    "- Keeping it for transparency"
   ]
  },
  {
   "cell_type": "code",
   "execution_count": 1,
   "metadata": {},
   "outputs": [
    {
     "name": "stderr",
     "output_type": "stream",
     "text": [
      "2021-08-16 18:09:05.335215: I tensorflow/stream_executor/platform/default/dso_loader.cc:53] Successfully opened dynamic library libcudart.so.11.0\n"
     ]
    }
   ],
   "source": [
    "import numpy as np\n",
    "import matplotlib.pyplot as plt\n",
    "import tensorflow as tf\n",
    "import lidar_compression.util.waymo_preprocessing as wp\n",
    "\n",
    "from waymo_open_dataset.utils import  frame_utils\n",
    "from waymo_open_dataset import dataset_pb2 as open_dataset"
   ]
  },
  {
   "cell_type": "code",
   "execution_count": 5,
   "metadata": {},
   "outputs": [
    {
     "data": {
      "text/plain": [
       "array([[ 1.        ,  2.        ,  3.        ,  3.74165739,  0.64052231,\n",
       "         1.10714872],\n",
       "       [-1.        , -2.        , -3.        ,  3.74165739,  2.50107034,\n",
       "         4.24874137],\n",
       "       [ 5.        ,  6.        ,  3.        ,  8.36660027,  1.20406227,\n",
       "         0.87605805],\n",
       "       [-5.        ,  3.        , 10.        , 11.5758369 ,  0.52789675,\n",
       "         2.60117315],\n",
       "       [ 0.        ,  0.        ,  0.        ,  0.        ,  0.        ,\n",
       "         0.        ],\n",
       "       [10.        , 10.        , 10.        , 17.32050808,  0.95531662,\n",
       "         0.78539816]])"
      ]
     },
     "execution_count": 5,
     "metadata": {},
     "output_type": "execute_result"
    }
   ],
   "source": [
    "cartesian_points= np.array([[1,2,3], [-1,-2,-3], [5,6,3], [-5,3,10], [0,0,0], [10,10,10]], dtype=np.float)\n",
    "cs = wp.add_spherical_coordinates(cartesian_points)\n",
    "cs"
   ]
  },
  {
   "cell_type": "code",
   "execution_count": 6,
   "metadata": {},
   "outputs": [
    {
     "name": "stdout",
     "output_type": "stream",
     "text": [
      "[[ 1.  2.  3.]\n",
      " [ 5.  6.  3.]\n",
      " [ 0.  0.  0.]\n",
      " [10. 10. 10.]]\n",
      "[[-5.  3. 10.]]\n",
      "[[0. 0. 0.]]\n",
      "[[-1. -2. -3.]]\n",
      "\n",
      "r0_c0: [4.  4.5 4. ]\n",
      "r0_c1: [-5.  3. 10.]\n",
      "r1_c0: [0. 0. 0.]\n",
      "r1_c1: [-1. -2. -3.]\n",
      "\n",
      "res:\n",
      "[[[ 4.   4.5  4. ]\n",
      "  [-5.   3.  10. ]]\n",
      "\n",
      " [[ 0.   0.   0. ]\n",
      "  [-1.  -2.  -3. ]]]\n",
      "Shape:\n",
      "(2, 2, 3)\n"
     ]
    }
   ],
   "source": [
    "r0_c0_values = np.array([cartesian_points[0][0:3], cartesian_points[2][0:3], cartesian_points[4][0:3],cartesian_points[5][0:3]])\n",
    "r0_c1_values = np.array([cartesian_points[3]])\n",
    "r1_c0_values = np.zeros((1,3))\n",
    "r1_c1_values = np.array([cartesian_points[1]])\n",
    "\n",
    "r0_c0 = np.array([r0_c0_values[:,0].mean(), r0_c0_values[:,1].mean(), r0_c0_values[:,2].mean()])\n",
    "r0_c1 = np.array([r0_c1_values[:,0].mean(), r0_c1_values[:,1].mean(), r0_c1_values[:,2].mean()])\n",
    "r1_c0 = np.array([r1_c0_values[:,0].mean(), r1_c0_values[:,1].mean(), r1_c0_values[:,2].mean()])\n",
    "r1_c1 = np.array([r1_c1_values[:,0].mean(), r1_c1_values[:,1].mean(), r1_c1_values[:,2].mean()])\n",
    "res = np.concatenate([r0_c0, r0_c1, r1_c0, r1_c1]).reshape((2,2,3))\n",
    "print(r0_c0_values)\n",
    "print(r0_c1_values)\n",
    "print(r1_c0_values)\n",
    "print(r1_c1_values)\n",
    "\n",
    "print()\n",
    "print(\"r0_c0: \" + str(r0_c0))\n",
    "print(\"r0_c1: \" + str(r0_c1))\n",
    "print(\"r1_c0: \" + str(r1_c0))\n",
    "print(\"r1_c1: \" + str(r1_c1))\n",
    "\n",
    "print()\n",
    "print(\"res:\")\n",
    "print(res)\n",
    "print(\"Shape:\")\n",
    "print(res.shape)"
   ]
  },
  {
   "cell_type": "code",
   "execution_count": 7,
   "metadata": {},
   "outputs": [],
   "source": [
    "num_rows = 2\n",
    "num_cols = 2\n",
    "cartesian_points= np.array([[1,2,3], [-1,-2,-3], [5,6,3], [-5,3,10], [0,0,0], [10,10,10]], dtype=np.float)\n",
    "cartesian_spherical_points = wp.add_spherical_coordinates(cartesian_points)\n",
    "sorted_points = wp.sort_points_theta_phi(cartesian_spherical_points, num_cols=num_cols, num_rows=num_rows)"
   ]
  },
  {
   "cell_type": "code",
   "execution_count": 8,
   "metadata": {},
   "outputs": [
    {
     "name": "stdout",
     "output_type": "stream",
     "text": [
      "[[ 1.  2.  3.]\n",
      " [ 5.  6.  3.]\n",
      " [ 0.  0.  0.]\n",
      " [10. 10. 10.]]\n",
      "[[-5.  3. 10.]]\n",
      "[[0. 0. 0.]]\n",
      "[[-1. -2. -3.]]\n"
     ]
    }
   ],
   "source": [
    "print(r0_c0_values)\n",
    "print(r0_c1_values)\n",
    "print(r1_c0_values)\n",
    "print(r1_c1_values)"
   ]
  },
  {
   "cell_type": "code",
   "execution_count": 9,
   "metadata": {},
   "outputs": [
    {
     "name": "stdout",
     "output_type": "stream",
     "text": [
      "[[ 1.          2.          3.          3.74165739  0.64052231  1.10714872]\n",
      " [-1.         -2.         -3.          3.74165739  2.50107034  4.24874137]\n",
      " [ 5.          6.          3.          8.36660027  1.20406227  0.87605805]\n",
      " [-5.          3.         10.         11.5758369   0.52789675  2.60117315]\n",
      " [ 0.          0.          0.          0.          0.          0.        ]\n",
      " [10.         10.         10.         17.32050808  0.95531662  0.78539816]]\n"
     ]
    }
   ],
   "source": [
    "print(cartesian_spherical_points)"
   ]
  },
  {
   "cell_type": "code",
   "execution_count": 10,
   "metadata": {},
   "outputs": [
    {
     "name": "stdout",
     "output_type": "stream",
     "text": [
      "\n",
      "Sort function:\n",
      "[[[16. 18. 16.]\n",
      "  [-5.  3. 10.]]\n",
      "\n",
      " [[ 0.  0.  0.]\n",
      "  [-1. -2. -3.]]]\n",
      "Hand calculated:\n",
      "[[[ 4.   4.5  4. ]\n",
      "  [-5.   3.  10. ]]\n",
      "\n",
      " [[ 0.   0.   0. ]\n",
      "  [-1.  -2.  -3. ]]]\n"
     ]
    }
   ],
   "source": [
    "sorted_points_optimized = wp.sort_points_theta_phi_optimized(cartesian_spherical_points, num_cols=num_cols, num_rows=num_rows)\n",
    "print()\n",
    "print(\"Sort function:\")\n",
    "print(sorted_points_optimized)\n",
    "print(\"Hand calculated:\")\n",
    "print(res)"
   ]
  }
 ],
 "metadata": {
  "interpreter": {
   "hash": "03f66ead887b5fdc7031a58106c4d57b36d81cc9a07c8d3bbb6d78a5c7960512"
  },
  "kernelspec": {
   "display_name": "Python 3.8.10 64-bit ('mlp': venv)",
   "name": "python3"
  },
  "language_info": {
   "codemirror_mode": {
    "name": "ipython",
    "version": 3
   },
   "file_extension": ".py",
   "mimetype": "text/x-python",
   "name": "python",
   "nbconvert_exporter": "python",
   "pygments_lexer": "ipython3",
   "version": "3.8.10"
  },
  "orig_nbformat": 4
 },
 "nbformat": 4,
 "nbformat_minor": 2
}
