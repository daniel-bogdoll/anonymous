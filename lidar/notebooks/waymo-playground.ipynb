{
 "cells": [
  {
   "cell_type": "code",
   "execution_count": 1,
   "source": [
    "import numpy as np\n",
    "import matplotlib.pyplot as plt\n",
    "import tensorflow as tf\n",
    "from waymo_open_dataset.utils import  frame_utils\n",
    "from waymo_open_dataset import dataset_pb2 as open_dataset\n",
    "\n",
    "import lidar_compression.util.waymo_preprocessing as wp"
   ],
   "outputs": [
    {
     "output_type": "stream",
     "name": "stderr",
     "text": [
      "2021-08-16 18:09:05.335215: I tensorflow/stream_executor/platform/default/dso_loader.cc:53] Successfully opened dynamic library libcudart.so.11.0\n"
     ]
    }
   ],
   "metadata": {}
  },
  {
   "cell_type": "markdown",
   "source": [
    "# Load One Cloud"
   ],
   "metadata": {}
  },
  {
   "cell_type": "code",
   "execution_count": 2,
   "source": [
    "# dir = \"/disk/vanishing_data/fa401/waymo/\"\n",
    "# filename = \"segment-10017090168044687777_6380_000_6400_000_with_camera_labels.tfrecord\"\n",
    "# file = dir + filename\n",
    "# dataset = tf.data.TFRecordDataset(file)\n",
    "# for data in dataset:\n",
    "#     frame = open_dataset.Frame()\n",
    "#     frame.ParseFromString(bytearray(data.numpy()))\n",
    "#     break\n",
    "# (range_images, camera_projections,\n",
    "#     range_image_top_pose) = frame_utils.parse_range_image_and_camera_projection(frame)\n",
    "# points, cp_points = frame_utils.convert_range_image_to_point_cloud(\n",
    "#     frame,\n",
    "#     range_images,\n",
    "#     camera_projections,\n",
    "#     range_image_top_pose)\n",
    "# # 3d points in vehicle frame.\n",
    "# cloud_3d = np.concatenate(points, axis=0)"
   ],
   "outputs": [],
   "metadata": {}
  },
  {
   "cell_type": "code",
   "execution_count": 3,
   "source": [
    "# cartesian_spherical_cloud = wp.add_spherical_coordinates(cloud_3d)\n",
    "# sorted_cloud = wp.sort_points_theta_phi(cartesian_spherical_cloud)"
   ],
   "outputs": [],
   "metadata": {}
  },
  {
   "cell_type": "code",
   "execution_count": 4,
   "source": [
    "# plt.plot([len(elem) for elem in sorted_cloud])"
   ],
   "outputs": [],
   "metadata": {}
  },
  {
   "cell_type": "code",
   "execution_count": 5,
   "source": [
    "cartesian_points= np.array([[1,2,3], [-1,-2,-3], [5,6,3], [-5,3,10], [0,0,0], [10,10,10]], dtype=np.float)\n",
    "cs = wp.add_spherical_coordinates(cartesian_points)\n",
    "cs"
   ],
   "outputs": [
    {
     "output_type": "execute_result",
     "data": {
      "text/plain": [
       "array([[ 1.        ,  2.        ,  3.        ,  3.74165739,  0.64052231,\n",
       "         1.10714872],\n",
       "       [-1.        , -2.        , -3.        ,  3.74165739,  2.50107034,\n",
       "         4.24874137],\n",
       "       [ 5.        ,  6.        ,  3.        ,  8.36660027,  1.20406227,\n",
       "         0.87605805],\n",
       "       [-5.        ,  3.        , 10.        , 11.5758369 ,  0.52789675,\n",
       "         2.60117315],\n",
       "       [ 0.        ,  0.        ,  0.        ,  0.        ,  0.        ,\n",
       "         0.        ],\n",
       "       [10.        , 10.        , 10.        , 17.32050808,  0.95531662,\n",
       "         0.78539816]])"
      ]
     },
     "metadata": {},
     "execution_count": 5
    }
   ],
   "metadata": {}
  },
  {
   "cell_type": "code",
   "execution_count": 6,
   "source": [
    "r0_c0_values = np.array([cartesian_points[0][0:3], cartesian_points[2][0:3], cartesian_points[4][0:3],cartesian_points[5][0:3]])\n",
    "r0_c1_values = np.array([cartesian_points[3]])\n",
    "r1_c0_values = np.zeros((1,3))\n",
    "r1_c1_values = np.array([cartesian_points[1]])\n",
    "\n",
    "r0_c0 = np.array([r0_c0_values[:,0].mean(), r0_c0_values[:,1].mean(), r0_c0_values[:,2].mean()])\n",
    "r0_c1 = np.array([r0_c1_values[:,0].mean(), r0_c1_values[:,1].mean(), r0_c1_values[:,2].mean()])\n",
    "r1_c0 = np.array([r1_c0_values[:,0].mean(), r1_c0_values[:,1].mean(), r1_c0_values[:,2].mean()])\n",
    "r1_c1 = np.array([r1_c1_values[:,0].mean(), r1_c1_values[:,1].mean(), r1_c1_values[:,2].mean()])\n",
    "res = np.concatenate([r0_c0, r0_c1, r1_c0, r1_c1]).reshape((2,2,3))\n",
    "print(r0_c0_values)\n",
    "print(r0_c1_values)\n",
    "print(r1_c0_values)\n",
    "print(r1_c1_values)\n",
    "\n",
    "print()\n",
    "print(\"r0_c0: \" + str(r0_c0))\n",
    "print(\"r0_c1: \" + str(r0_c1))\n",
    "print(\"r1_c0: \" + str(r1_c0))\n",
    "print(\"r1_c1: \" + str(r1_c1))\n",
    "\n",
    "print()\n",
    "print(\"res:\")\n",
    "print(res)\n",
    "print(\"Shape:\")\n",
    "print(res.shape)"
   ],
   "outputs": [
    {
     "output_type": "stream",
     "name": "stdout",
     "text": [
      "[[ 1.  2.  3.]\n",
      " [ 5.  6.  3.]\n",
      " [ 0.  0.  0.]\n",
      " [10. 10. 10.]]\n",
      "[[-5.  3. 10.]]\n",
      "[[0. 0. 0.]]\n",
      "[[-1. -2. -3.]]\n",
      "\n",
      "r0_c0: [4.  4.5 4. ]\n",
      "r0_c1: [-5.  3. 10.]\n",
      "r1_c0: [0. 0. 0.]\n",
      "r1_c1: [-1. -2. -3.]\n",
      "\n",
      "res:\n",
      "[[[ 4.   4.5  4. ]\n",
      "  [-5.   3.  10. ]]\n",
      "\n",
      " [[ 0.   0.   0. ]\n",
      "  [-1.  -2.  -3. ]]]\n",
      "Shape:\n",
      "(2, 2, 3)\n"
     ]
    }
   ],
   "metadata": {}
  },
  {
   "cell_type": "code",
   "execution_count": 7,
   "source": [
    "num_rows = 2\n",
    "num_cols = 2\n",
    "cartesian_points= np.array([[1,2,3], [-1,-2,-3], [5,6,3], [-5,3,10], [0,0,0], [10,10,10]], dtype=np.float)\n",
    "cartesian_spherical_points = wp.add_spherical_coordinates(cartesian_points)\n",
    "sorted_points = wp.sort_points_theta_phi(cartesian_spherical_points, num_cols=num_cols, num_rows=num_rows)"
   ],
   "outputs": [],
   "metadata": {}
  },
  {
   "cell_type": "code",
   "execution_count": 8,
   "source": [
    "print(r0_c0_values)\n",
    "print(r0_c1_values)\n",
    "print(r1_c0_values)\n",
    "print(r1_c1_values)"
   ],
   "outputs": [
    {
     "output_type": "stream",
     "name": "stdout",
     "text": [
      "[[ 1.  2.  3.]\n",
      " [ 5.  6.  3.]\n",
      " [ 0.  0.  0.]\n",
      " [10. 10. 10.]]\n",
      "[[-5.  3. 10.]]\n",
      "[[0. 0. 0.]]\n",
      "[[-1. -2. -3.]]\n"
     ]
    }
   ],
   "metadata": {}
  },
  {
   "cell_type": "code",
   "execution_count": 9,
   "source": [
    "print(cartesian_spherical_points)"
   ],
   "outputs": [
    {
     "output_type": "stream",
     "name": "stdout",
     "text": [
      "[[ 1.          2.          3.          3.74165739  0.64052231  1.10714872]\n",
      " [-1.         -2.         -3.          3.74165739  2.50107034  4.24874137]\n",
      " [ 5.          6.          3.          8.36660027  1.20406227  0.87605805]\n",
      " [-5.          3.         10.         11.5758369   0.52789675  2.60117315]\n",
      " [ 0.          0.          0.          0.          0.          0.        ]\n",
      " [10.         10.         10.         17.32050808  0.95531662  0.78539816]]\n"
     ]
    }
   ],
   "metadata": {}
  },
  {
   "cell_type": "code",
   "execution_count": 10,
   "source": [
    "sorted_points_optimized = wp.sort_points_theta_phi_optimized(cartesian_spherical_points, num_cols=num_cols, num_rows=num_rows)\n",
    "print()\n",
    "print(\"Sort function:\")\n",
    "print(sorted_points_optimized)\n",
    "print(\"Hand calculated:\")\n",
    "print(res)"
   ],
   "outputs": [
    {
     "output_type": "stream",
     "name": "stdout",
     "text": [
      "\n",
      "Sort function:\n",
      "[[[16. 18. 16.]\n",
      "  [-5.  3. 10.]]\n",
      "\n",
      " [[ 0.  0.  0.]\n",
      "  [-1. -2. -3.]]]\n",
      "Hand calculated:\n",
      "[[[ 4.   4.5  4. ]\n",
      "  [-5.   3.  10. ]]\n",
      "\n",
      " [[ 0.   0.   0. ]\n",
      "  [-1.  -2.  -3. ]]]\n"
     ]
    }
   ],
   "metadata": {}
  }
 ],
 "metadata": {
  "orig_nbformat": 4,
  "language_info": {
   "name": "python",
   "version": "3.8.10",
   "mimetype": "text/x-python",
   "codemirror_mode": {
    "name": "ipython",
    "version": 3
   },
   "pygments_lexer": "ipython3",
   "nbconvert_exporter": "python",
   "file_extension": ".py"
  },
  "kernelspec": {
   "name": "python3",
   "display_name": "Python 3.8.10 64-bit ('mlp': venv)"
  },
  "interpreter": {
   "hash": "03f66ead887b5fdc7031a58106c4d57b36d81cc9a07c8d3bbb6d78a5c7960512"
  }
 },
 "nbformat": 4,
 "nbformat_minor": 2
}