{
 "cells": [
  {
   "cell_type": "markdown",
   "metadata": {},
   "source": [
    "# Try out, compare, test lidar transformations\n",
    "- Keeping it for transparency"
   ]
  },
  {
   "cell_type": "code",
   "execution_count": null,
   "metadata": {},
   "outputs": [],
   "source": [
    "import numpy as np\n",
    "import tensorflow as tf\n",
    "import unittest\n",
    "\n",
    "from lidar_compression.util.pointcloud_sort import add_spherical_coordinates, remove_distant_and_close_points, sort_points\n",
    "from lidar_compression.util.pointcloud_sort_optimizations import sort_points_theta_phi_naive\n",
    "from waymo_open_dataset.utils import  frame_utils\n",
    "from waymo_open_dataset import dataset_pb2 as open_dataset"
   ]
  },
  {
   "cell_type": "code",
   "execution_count": 2,
   "metadata": {},
   "outputs": [
    {
     "data": {
      "text/plain": [
       "array([[ 1.,  1.,  1.],\n",
       "       [ 2.,  2.,  2.],\n",
       "       [ 3.,  3.,  3.],\n",
       "       [ 4.,  4.,  4.],\n",
       "       [ 5.,  5.,  5.],\n",
       "       [ 6.,  6.,  6.],\n",
       "       [ 7.,  7.,  7.],\n",
       "       [ 8.,  8.,  8.],\n",
       "       [ 9.,  9.,  9.],\n",
       "       [10., 10., 10.]])"
      ]
     },
     "execution_count": 2,
     "metadata": {},
     "output_type": "execute_result"
    }
   ],
   "source": [
    "result = np.zeros((10,3))\n",
    "for i in range(1,11):\n",
    "    result[i-1] = np.array([i,i,i])\n",
    "print(result)\n",
    "print(np.percentile(result[:,0],78, interpolation='nearest'))"
   ]
  },
  {
   "cell_type": "code",
   "execution_count": 4,
   "metadata": {},
   "outputs": [
    {
     "name": "stdout",
     "output_type": "stream",
     "text": [
      "[[3. 3. 3.]\n",
      " [4. 4. 4.]\n",
      " [5. 5. 5.]\n",
      " [6. 6. 6.]\n",
      " [7. 7. 7.]\n",
      " [8. 8. 8.]]\n",
      "[[3. 3. 3.]\n",
      " [4. 4. 4.]\n",
      " [5. 5. 5.]\n",
      " [6. 6. 6.]\n",
      " [7. 7. 7.]\n",
      " [8. 8. 8.]]\n"
     ]
    }
   ],
   "source": [
    "points = np.zeros((10,3))\n",
    "for i in range(1,11):\n",
    "    points[i-1] = np.array([i,i,i])\n",
    "\n",
    "correct_result = np.zeros((6,3))\n",
    "for i in range(3,9):\n",
    "    correct_result[i-3] = np.array([i,i,i])\n",
    "\n",
    "reduced_points = remove_distant_and_close_points(points, min_percentile=22, max_percentile=78)\n",
    "print(reduced_points)\n",
    "print(correct_result)"
   ]
  },
  {
   "cell_type": "code",
   "execution_count": 6,
   "metadata": {},
   "outputs": [],
   "source": [
    "cartesian_points = np.array([[1,2,3], [-1,-2,-3], [5,6,3], [-5,3,10], [0,0,0], [10,10,10]], dtype=np.float)\n",
    "cartesian_spherical_cloud = add_spherical_coordinates(cartesian_points)\n",
    "sorted_cloud = sort_points(cartesian_spherical_cloud, 6,6)\n",
    "sorted_cloud_naive = sort_points_theta_phi_naive(cartesian_spherical_cloud,6,6)"
   ]
  },
  {
   "cell_type": "code",
   "execution_count": 7,
   "metadata": {},
   "outputs": [
    {
     "name": "stdout",
     "output_type": "stream",
     "text": [
      "[[[ 0.   0.   0. ]\n",
      "  [ 0.   0.   0. ]\n",
      "  [ 0.   0.   0. ]\n",
      "  [ 0.   0.   0. ]\n",
      "  [ 0.   0.   0. ]\n",
      "  [ 0.   0.   0. ]]\n",
      "\n",
      " [[ 0.   0.   0. ]\n",
      "  [ 1.   2.   3. ]\n",
      "  [ 0.   0.   0. ]\n",
      "  [-5.   3.  10. ]\n",
      "  [ 0.   0.   0. ]\n",
      "  [ 0.   0.   0. ]]\n",
      "\n",
      " [[ 0.   0.   0. ]\n",
      "  [ 7.5  8.   6.5]\n",
      "  [ 0.   0.   0. ]\n",
      "  [ 0.   0.   0. ]\n",
      "  [ 0.   0.   0. ]\n",
      "  [ 0.   0.   0. ]]\n",
      "\n",
      " [[ 0.   0.   0. ]\n",
      "  [ 0.   0.   0. ]\n",
      "  [ 0.   0.   0. ]\n",
      "  [ 0.   0.   0. ]\n",
      "  [ 0.   0.   0. ]\n",
      "  [ 0.   0.   0. ]]\n",
      "\n",
      " [[ 0.   0.   0. ]\n",
      "  [ 0.   0.   0. ]\n",
      "  [ 0.   0.   0. ]\n",
      "  [ 0.   0.   0. ]\n",
      "  [ 0.   0.   0. ]\n",
      "  [ 0.   0.   0. ]]\n",
      "\n",
      " [[ 0.   0.   0. ]\n",
      "  [ 0.   0.   0. ]\n",
      "  [ 0.   0.   0. ]\n",
      "  [ 0.   0.   0. ]\n",
      "  [ 0.   0.   0. ]\n",
      "  [-1.  -2.  -3. ]]]\n",
      "[[[ 0.   0.   0. ]\n",
      "  [ 0.   0.   0. ]\n",
      "  [ 0.   0.   0. ]\n",
      "  [ 0.   0.   0. ]\n",
      "  [ 0.   0.   0. ]\n",
      "  [ 0.   0.   0. ]]\n",
      "\n",
      " [[ 0.   0.   0. ]\n",
      "  [ 1.   2.   3. ]\n",
      "  [ 0.   0.   0. ]\n",
      "  [-5.   3.  10. ]\n",
      "  [ 0.   0.   0. ]\n",
      "  [ 0.   0.   0. ]]\n",
      "\n",
      " [[ 0.   0.   0. ]\n",
      "  [ 7.5  8.   6.5]\n",
      "  [ 0.   0.   0. ]\n",
      "  [ 0.   0.   0. ]\n",
      "  [ 0.   0.   0. ]\n",
      "  [ 0.   0.   0. ]]\n",
      "\n",
      " [[ 0.   0.   0. ]\n",
      "  [ 0.   0.   0. ]\n",
      "  [ 0.   0.   0. ]\n",
      "  [ 0.   0.   0. ]\n",
      "  [ 0.   0.   0. ]\n",
      "  [ 0.   0.   0. ]]\n",
      "\n",
      " [[ 0.   0.   0. ]\n",
      "  [ 0.   0.   0. ]\n",
      "  [ 0.   0.   0. ]\n",
      "  [ 0.   0.   0. ]\n",
      "  [ 0.   0.   0. ]\n",
      "  [ 0.   0.   0. ]]\n",
      "\n",
      " [[ 0.   0.   0. ]\n",
      "  [ 0.   0.   0. ]\n",
      "  [ 0.   0.   0. ]\n",
      "  [ 0.   0.   0. ]\n",
      "  [ 0.   0.   0. ]\n",
      "  [-1.  -2.  -3. ]]]\n",
      "True\n"
     ]
    }
   ],
   "source": [
    "print(sorted_cloud)\n",
    "print(sorted_cloud_naive)\n",
    "print(np.array_equal(sorted_cloud, sorted_cloud_naive))"
   ]
  },
  {
   "cell_type": "code",
   "execution_count": 8,
   "metadata": {},
   "outputs": [
    {
     "data": {
      "text/plain": [
       "array([[3., 3., 8.],\n",
       "       [4., 4., 7.],\n",
       "       [5., 5., 6.],\n",
       "       [6., 6., 5.],\n",
       "       [7., 7., 4.],\n",
       "       [8., 8., 3.]])"
      ]
     },
     "execution_count": 8,
     "metadata": {},
     "output_type": "execute_result"
    }
   ],
   "source": [
    "correct_result_xy = np.zeros((6,2))\n",
    "correct_result_z = np.zeros((6,1))\n",
    "for i in range(3,9):\n",
    "    correct_result_xy[i-3] = np.array([i,i])\n",
    "for i in range(9,2,-1):\n",
    "    correct_result_z[8-i] = np.array([i])\n",
    "correct_result = np.concatenate([correct_result_xy, correct_result_z], axis=1)\n",
    "correct_result"
   ]
  },
  {
   "cell_type": "code",
   "execution_count": 9,
   "metadata": {},
   "outputs": [
    {
     "data": {
      "text/plain": [
       "array([[ 1.,  1., 10.],\n",
       "       [ 2.,  2.,  9.],\n",
       "       [ 3.,  3.,  8.],\n",
       "       [ 4.,  4.,  7.],\n",
       "       [ 5.,  5.,  6.],\n",
       "       [ 6.,  6.,  5.],\n",
       "       [ 7.,  7.,  4.],\n",
       "       [ 8.,  8.,  3.],\n",
       "       [ 9.,  9.,  2.],\n",
       "       [10., 10.,  1.]])"
      ]
     },
     "execution_count": 9,
     "metadata": {},
     "output_type": "execute_result"
    }
   ],
   "source": [
    "result_xy = np.zeros((10,2))\n",
    "result_z = np.zeros((10,1))\n",
    "for i in range(1,11):\n",
    "    result_xy[i-1] = np.array([i,i])\n",
    "for i in range(10,0,-1):\n",
    "    result_z[10-i] = np.array([i])\n",
    "result = np.concatenate([result_xy, result_z], axis=1)\n",
    "print(result)\n",
    "print(result[2:8])\n",
    "print(np.percentile(result, 100))"
   ]
  }
 ],
 "metadata": {
  "interpreter": {
   "hash": "156f97338559f943403f33e84537dd86dcf56648dfdb9fdb0a1b5dc4083eb413"
  },
  "kernelspec": {
   "display_name": "Python 3.8.10 64-bit ('mlp': venv)",
   "name": "python3"
  },
  "language_info": {
   "codemirror_mode": {
    "name": "ipython",
    "version": 3
   },
   "file_extension": ".py",
   "mimetype": "text/x-python",
   "name": "python",
   "nbconvert_exporter": "python",
   "pygments_lexer": "ipython3",
   "version": "3.8.10"
  },
  "orig_nbformat": 4
 },
 "nbformat": 4,
 "nbformat_minor": 2
}
