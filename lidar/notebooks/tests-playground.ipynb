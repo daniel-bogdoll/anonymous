{
 "cells": [
  {
   "cell_type": "code",
   "execution_count": 2,
   "source": [
    "import numpy as np\n",
    "\n",
    "result = np.zeros((10,3))\n",
    "for i in range(1,11):\n",
    "    result[i-1] = np.array([i,i,i])\n",
    "\n",
    "result"
   ],
   "outputs": [
    {
     "output_type": "execute_result",
     "data": {
      "text/plain": [
       "array([[ 1.,  1.,  1.],\n",
       "       [ 2.,  2.,  2.],\n",
       "       [ 3.,  3.,  3.],\n",
       "       [ 4.,  4.,  4.],\n",
       "       [ 5.,  5.,  5.],\n",
       "       [ 6.,  6.,  6.],\n",
       "       [ 7.,  7.,  7.],\n",
       "       [ 8.,  8.,  8.],\n",
       "       [ 9.,  9.,  9.],\n",
       "       [10., 10., 10.]])"
      ]
     },
     "metadata": {},
     "execution_count": 2
    }
   ],
   "metadata": {}
  },
  {
   "cell_type": "code",
   "execution_count": 3,
   "source": [
    "np.percentile(result[:,0],78, interpolation='nearest')"
   ],
   "outputs": [
    {
     "output_type": "execute_result",
     "data": {
      "text/plain": [
       "8.0"
      ]
     },
     "metadata": {},
     "execution_count": 3
    }
   ],
   "metadata": {}
  },
  {
   "cell_type": "code",
   "execution_count": 4,
   "source": [
    "from lidar_compression.util.pointcloud_sort import remove_distant_and_close_points\n",
    "\n",
    "points = np.zeros((10,3))\n",
    "for i in range(1,11):\n",
    "    points[i-1] = np.array([i,i,i])\n",
    "\n",
    "correct_result = np.zeros((6,3))\n",
    "for i in range(3,9):\n",
    "    correct_result[i-3] = np.array([i,i,i])\n",
    "\n",
    "\n",
    "reduced_points = remove_distant_and_close_points(points, min_percentile=22, max_percentile=78)\n",
    "print(reduced_points)\n",
    "print(correct_result)"
   ],
   "outputs": [
    {
     "output_type": "stream",
     "name": "stdout",
     "text": [
      "[[3. 3. 3.]\n",
      " [4. 4. 4.]\n",
      " [5. 5. 5.]\n",
      " [6. 6. 6.]\n",
      " [7. 7. 7.]\n",
      " [8. 8. 8.]]\n",
      "[[3. 3. 3.]\n",
      " [4. 4. 4.]\n",
      " [5. 5. 5.]\n",
      " [6. 6. 6.]\n",
      " [7. 7. 7.]\n",
      " [8. 8. 8.]]\n"
     ]
    }
   ],
   "metadata": {}
  },
  {
   "cell_type": "code",
   "execution_count": 5,
   "source": [
    "import numpy as np\n",
    "import unittest\n",
    "import tensorflow as tf\n",
    "from waymo_open_dataset.utils import  frame_utils\n",
    "from waymo_open_dataset import dataset_pb2 as open_dataset\n",
    "\n",
    "from lidar_compression.util.pointcloud_sort import add_spherical_coordinates, remove_distant_and_close_points, sort_points\n",
    "from lidar_compression.util.pointcloud_sort_optimizations import sort_points_theta_phi_naive\n",
    "\n",
    "dir = \"/disk/vanishing_data/fa401/waymo/\"\n",
    "filename = \"segment-10023947602400723454_1120_000_1140_000_with_camera_labels.tfrecord\"\n",
    "file = dir + filename\n",
    "dataset = tf.data.TFRecordDataset(file)\n",
    "for data in dataset:\n",
    "    frame = open_dataset.Frame()\n",
    "    frame.ParseFromString(bytearray(data.numpy()))\n",
    "    break\n",
    "(range_images, camera_projections,\n",
    "    range_image_top_pose) = frame_utils.parse_range_image_and_camera_projection(frame)\n",
    "points, _ = frame_utils.convert_range_image_to_point_cloud(\n",
    "    frame,\n",
    "    range_images,\n",
    "    camera_projections,\n",
    "    range_image_top_pose)\n",
    "# 3d points in vehicle frame.\n",
    "cloud_3d = np.concatenate(points, axis=0)\n",
    "\n",
    "cartesian_spherical_cloud = add_spherical_coordinates(cloud_3d)\n",
    "sorted_cloud = sort_points(cartesian_spherical_cloud)\n",
    "sorted_cloud_naive = sort_points_theta_phi_naive(cartesian_spherical_cloud)"
   ],
   "outputs": [
    {
     "output_type": "stream",
     "name": "stderr",
     "text": [
      "2021-08-19 19:57:03.171419: I tensorflow/stream_executor/platform/default/dso_loader.cc:53] Successfully opened dynamic library libcudart.so.11.0\n",
      "2021-08-19 19:57:04.953569: I tensorflow/stream_executor/platform/default/dso_loader.cc:53] Successfully opened dynamic library libcuda.so.1\n",
      "2021-08-19 19:57:04.969955: I tensorflow/stream_executor/cuda/cuda_gpu_executor.cc:937] successful NUMA node read from SysFS had negative value (-1), but there must be at least one NUMA node, so returning NUMA node zero\n",
      "2021-08-19 19:57:04.970355: I tensorflow/core/common_runtime/gpu/gpu_device.cc:1733] Found device 0 with properties: \n",
      "pciBusID: 0000:01:00.0 name: NVIDIA GeForce RTX 2080 Ti computeCapability: 7.5\n",
      "coreClock: 1.545GHz coreCount: 68 deviceMemorySize: 10.75GiB deviceMemoryBandwidth: 573.69GiB/s\n",
      "2021-08-19 19:57:04.970371: I tensorflow/stream_executor/platform/default/dso_loader.cc:53] Successfully opened dynamic library libcudart.so.11.0\n",
      "2021-08-19 19:57:04.971947: I tensorflow/stream_executor/platform/default/dso_loader.cc:53] Successfully opened dynamic library libcublas.so.11\n",
      "2021-08-19 19:57:04.971977: I tensorflow/stream_executor/platform/default/dso_loader.cc:53] Successfully opened dynamic library libcublasLt.so.11\n",
      "2021-08-19 19:57:04.972624: I tensorflow/stream_executor/platform/default/dso_loader.cc:53] Successfully opened dynamic library libcufft.so.10\n",
      "2021-08-19 19:57:04.972765: I tensorflow/stream_executor/platform/default/dso_loader.cc:53] Successfully opened dynamic library libcurand.so.10\n",
      "2021-08-19 19:57:04.974560: I tensorflow/stream_executor/platform/default/dso_loader.cc:53] Successfully opened dynamic library libcusolver.so.11\n",
      "2021-08-19 19:57:04.974907: I tensorflow/stream_executor/platform/default/dso_loader.cc:53] Successfully opened dynamic library libcusparse.so.11\n",
      "2021-08-19 19:57:04.974991: I tensorflow/stream_executor/platform/default/dso_loader.cc:53] Successfully opened dynamic library libcudnn.so.8\n",
      "2021-08-19 19:57:04.975054: I tensorflow/stream_executor/cuda/cuda_gpu_executor.cc:937] successful NUMA node read from SysFS had negative value (-1), but there must be at least one NUMA node, so returning NUMA node zero\n",
      "2021-08-19 19:57:04.975535: I tensorflow/stream_executor/cuda/cuda_gpu_executor.cc:937] successful NUMA node read from SysFS had negative value (-1), but there must be at least one NUMA node, so returning NUMA node zero\n",
      "2021-08-19 19:57:04.975907: I tensorflow/core/common_runtime/gpu/gpu_device.cc:1871] Adding visible gpu devices: 0\n",
      "2021-08-19 19:57:04.976156: I tensorflow/core/platform/cpu_feature_guard.cc:142] This TensorFlow binary is optimized with oneAPI Deep Neural Network Library (oneDNN) to use the following CPU instructions in performance-critical operations:  AVX2 FMA\n",
      "To enable them in other operations, rebuild TensorFlow with the appropriate compiler flags.\n",
      "2021-08-19 19:57:04.976516: I tensorflow/stream_executor/cuda/cuda_gpu_executor.cc:937] successful NUMA node read from SysFS had negative value (-1), but there must be at least one NUMA node, so returning NUMA node zero\n",
      "2021-08-19 19:57:04.976895: I tensorflow/core/common_runtime/gpu/gpu_device.cc:1733] Found device 0 with properties: \n",
      "pciBusID: 0000:01:00.0 name: NVIDIA GeForce RTX 2080 Ti computeCapability: 7.5\n",
      "coreClock: 1.545GHz coreCount: 68 deviceMemorySize: 10.75GiB deviceMemoryBandwidth: 573.69GiB/s\n",
      "2021-08-19 19:57:04.976928: I tensorflow/stream_executor/cuda/cuda_gpu_executor.cc:937] successful NUMA node read from SysFS had negative value (-1), but there must be at least one NUMA node, so returning NUMA node zero\n",
      "2021-08-19 19:57:04.977312: I tensorflow/stream_executor/cuda/cuda_gpu_executor.cc:937] successful NUMA node read from SysFS had negative value (-1), but there must be at least one NUMA node, so returning NUMA node zero\n",
      "2021-08-19 19:57:04.977676: I tensorflow/core/common_runtime/gpu/gpu_device.cc:1871] Adding visible gpu devices: 0\n",
      "2021-08-19 19:57:04.977693: I tensorflow/stream_executor/platform/default/dso_loader.cc:53] Successfully opened dynamic library libcudart.so.11.0\n",
      "2021-08-19 19:57:05.304611: I tensorflow/core/common_runtime/gpu/gpu_device.cc:1258] Device interconnect StreamExecutor with strength 1 edge matrix:\n",
      "2021-08-19 19:57:05.304631: I tensorflow/core/common_runtime/gpu/gpu_device.cc:1264]      0 \n",
      "2021-08-19 19:57:05.304635: I tensorflow/core/common_runtime/gpu/gpu_device.cc:1277] 0:   N \n",
      "2021-08-19 19:57:05.304735: I tensorflow/stream_executor/cuda/cuda_gpu_executor.cc:937] successful NUMA node read from SysFS had negative value (-1), but there must be at least one NUMA node, so returning NUMA node zero\n",
      "2021-08-19 19:57:05.305118: I tensorflow/stream_executor/cuda/cuda_gpu_executor.cc:937] successful NUMA node read from SysFS had negative value (-1), but there must be at least one NUMA node, so returning NUMA node zero\n",
      "2021-08-19 19:57:05.305476: I tensorflow/stream_executor/cuda/cuda_gpu_executor.cc:937] successful NUMA node read from SysFS had negative value (-1), but there must be at least one NUMA node, so returning NUMA node zero\n",
      "2021-08-19 19:57:05.305824: I tensorflow/core/common_runtime/gpu/gpu_device.cc:1418] Created TensorFlow device (/job:localhost/replica:0/task:0/device:GPU:0 with 9277 MB memory) -> physical GPU (device: 0, name: NVIDIA GeForce RTX 2080 Ti, pci bus id: 0000:01:00.0, compute capability: 7.5)\n",
      "2021-08-19 19:57:05.318813: I tensorflow/compiler/mlir/mlir_graph_optimization_pass.cc:176] None of the MLIR Optimization Passes are enabled (registered 2)\n",
      "2021-08-19 19:57:05.319371: I tensorflow/core/platform/profile_utils/cpu_utils.cc:114] CPU Frequency: 3600000000 Hz\n",
      "2021-08-19 19:57:05.522492: I tensorflow/stream_executor/platform/default/dso_loader.cc:53] Successfully opened dynamic library libcublas.so.11\n",
      "2021-08-19 19:57:05.786469: I tensorflow/stream_executor/platform/default/dso_loader.cc:53] Successfully opened dynamic library libcublasLt.so.11\n",
      "2021-08-19 19:57:05.937077: I tensorflow/core/util/cuda_solvers.cc:180] Creating CudaSolver handles for stream 0x553e3a0\n",
      "2021-08-19 19:57:05.937131: I tensorflow/stream_executor/platform/default/dso_loader.cc:53] Successfully opened dynamic library libcusolver.so.11\n",
      "2021-08-19 19:57:06.275023: I tensorflow/stream_executor/platform/default/dso_loader.cc:53] Successfully opened dynamic library libcublas.so.11\n"
     ]
    }
   ],
   "metadata": {}
  },
  {
   "cell_type": "code",
   "execution_count": 6,
   "source": [
    "cartesian_points = np.array([[1,2,3], [-1,-2,-3], [5,6,3], [-5,3,10], [0,0,0], [10,10,10]], dtype=np.float)\n",
    "cartesian_spherical_cloud = add_spherical_coordinates(cartesian_points)\n",
    "sorted_cloud = sort_points(cartesian_spherical_cloud, 6,6)\n",
    "sorted_cloud_naive = sort_points_theta_phi_naive(cartesian_spherical_cloud,6,6)"
   ],
   "outputs": [],
   "metadata": {}
  },
  {
   "cell_type": "code",
   "execution_count": 7,
   "source": [
    "print(sorted_cloud)\n",
    "print(sorted_cloud_naive)\n",
    "\n",
    "print(np.array_equal(sorted_cloud, sorted_cloud_naive))"
   ],
   "outputs": [
    {
     "output_type": "stream",
     "name": "stdout",
     "text": [
      "[[[ 0.   0.   0. ]\n",
      "  [ 0.   0.   0. ]\n",
      "  [ 0.   0.   0. ]\n",
      "  [ 0.   0.   0. ]\n",
      "  [ 0.   0.   0. ]\n",
      "  [ 0.   0.   0. ]]\n",
      "\n",
      " [[ 0.   0.   0. ]\n",
      "  [ 1.   2.   3. ]\n",
      "  [ 0.   0.   0. ]\n",
      "  [-5.   3.  10. ]\n",
      "  [ 0.   0.   0. ]\n",
      "  [ 0.   0.   0. ]]\n",
      "\n",
      " [[ 0.   0.   0. ]\n",
      "  [ 7.5  8.   6.5]\n",
      "  [ 0.   0.   0. ]\n",
      "  [ 0.   0.   0. ]\n",
      "  [ 0.   0.   0. ]\n",
      "  [ 0.   0.   0. ]]\n",
      "\n",
      " [[ 0.   0.   0. ]\n",
      "  [ 0.   0.   0. ]\n",
      "  [ 0.   0.   0. ]\n",
      "  [ 0.   0.   0. ]\n",
      "  [ 0.   0.   0. ]\n",
      "  [ 0.   0.   0. ]]\n",
      "\n",
      " [[ 0.   0.   0. ]\n",
      "  [ 0.   0.   0. ]\n",
      "  [ 0.   0.   0. ]\n",
      "  [ 0.   0.   0. ]\n",
      "  [ 0.   0.   0. ]\n",
      "  [ 0.   0.   0. ]]\n",
      "\n",
      " [[ 0.   0.   0. ]\n",
      "  [ 0.   0.   0. ]\n",
      "  [ 0.   0.   0. ]\n",
      "  [ 0.   0.   0. ]\n",
      "  [ 0.   0.   0. ]\n",
      "  [-1.  -2.  -3. ]]]\n",
      "[[[ 0.   0.   0. ]\n",
      "  [ 0.   0.   0. ]\n",
      "  [ 0.   0.   0. ]\n",
      "  [ 0.   0.   0. ]\n",
      "  [ 0.   0.   0. ]\n",
      "  [ 0.   0.   0. ]]\n",
      "\n",
      " [[ 0.   0.   0. ]\n",
      "  [ 1.   2.   3. ]\n",
      "  [ 0.   0.   0. ]\n",
      "  [-5.   3.  10. ]\n",
      "  [ 0.   0.   0. ]\n",
      "  [ 0.   0.   0. ]]\n",
      "\n",
      " [[ 0.   0.   0. ]\n",
      "  [ 7.5  8.   6.5]\n",
      "  [ 0.   0.   0. ]\n",
      "  [ 0.   0.   0. ]\n",
      "  [ 0.   0.   0. ]\n",
      "  [ 0.   0.   0. ]]\n",
      "\n",
      " [[ 0.   0.   0. ]\n",
      "  [ 0.   0.   0. ]\n",
      "  [ 0.   0.   0. ]\n",
      "  [ 0.   0.   0. ]\n",
      "  [ 0.   0.   0. ]\n",
      "  [ 0.   0.   0. ]]\n",
      "\n",
      " [[ 0.   0.   0. ]\n",
      "  [ 0.   0.   0. ]\n",
      "  [ 0.   0.   0. ]\n",
      "  [ 0.   0.   0. ]\n",
      "  [ 0.   0.   0. ]\n",
      "  [ 0.   0.   0. ]]\n",
      "\n",
      " [[ 0.   0.   0. ]\n",
      "  [ 0.   0.   0. ]\n",
      "  [ 0.   0.   0. ]\n",
      "  [ 0.   0.   0. ]\n",
      "  [ 0.   0.   0. ]\n",
      "  [-1.  -2.  -3. ]]]\n",
      "True\n"
     ]
    }
   ],
   "metadata": {}
  },
  {
   "cell_type": "code",
   "execution_count": 8,
   "source": [
    "correct_result_xy = np.zeros((6,2))\n",
    "correct_result_z = np.zeros((6,1))\n",
    "for i in range(3,9):\n",
    "    correct_result_xy[i-3] = np.array([i,i])\n",
    "for i in range(9,2,-1):\n",
    "    correct_result_z[8-i] = np.array([i])\n",
    "correct_result = np.concatenate([correct_result_xy, correct_result_z], axis=1)\n",
    "\n",
    "correct_result"
   ],
   "outputs": [
    {
     "output_type": "execute_result",
     "data": {
      "text/plain": [
       "array([[3., 3., 8.],\n",
       "       [4., 4., 7.],\n",
       "       [5., 5., 6.],\n",
       "       [6., 6., 5.],\n",
       "       [7., 7., 4.],\n",
       "       [8., 8., 3.]])"
      ]
     },
     "metadata": {},
     "execution_count": 8
    }
   ],
   "metadata": {}
  },
  {
   "cell_type": "code",
   "execution_count": 9,
   "source": [
    "result_xy = np.zeros((10,2))\n",
    "result_z = np.zeros((10,1))\n",
    "for i in range(1,11):\n",
    "    result_xy[i-1] = np.array([i,i])\n",
    "for i in range(10,0,-1):\n",
    "    result_z[10-i] = np.array([i])\n",
    "result = np.concatenate([result_xy, result_z], axis=1)\n",
    "\n",
    "result"
   ],
   "outputs": [
    {
     "output_type": "execute_result",
     "data": {
      "text/plain": [
       "array([[ 1.,  1., 10.],\n",
       "       [ 2.,  2.,  9.],\n",
       "       [ 3.,  3.,  8.],\n",
       "       [ 4.,  4.,  7.],\n",
       "       [ 5.,  5.,  6.],\n",
       "       [ 6.,  6.,  5.],\n",
       "       [ 7.,  7.,  4.],\n",
       "       [ 8.,  8.,  3.],\n",
       "       [ 9.,  9.,  2.],\n",
       "       [10., 10.,  1.]])"
      ]
     },
     "metadata": {},
     "execution_count": 9
    }
   ],
   "metadata": {}
  },
  {
   "cell_type": "code",
   "execution_count": 12,
   "source": [
    "result[2:8]"
   ],
   "outputs": [
    {
     "output_type": "execute_result",
     "data": {
      "text/plain": [
       "array([[3., 3., 8.],\n",
       "       [4., 4., 7.],\n",
       "       [5., 5., 6.],\n",
       "       [6., 6., 5.],\n",
       "       [7., 7., 4.],\n",
       "       [8., 8., 3.]])"
      ]
     },
     "metadata": {},
     "execution_count": 12
    }
   ],
   "metadata": {}
  },
  {
   "cell_type": "code",
   "execution_count": 11,
   "source": [
    "np.percentile(result, 100)"
   ],
   "outputs": [
    {
     "output_type": "execute_result",
     "data": {
      "text/plain": [
       "10.0"
      ]
     },
     "metadata": {},
     "execution_count": 11
    }
   ],
   "metadata": {}
  }
 ],
 "metadata": {
  "orig_nbformat": 4,
  "kernelspec": {
   "name": "python3",
   "display_name": "Python 3.8.10 64-bit ('mlp': venv)"
  },
  "interpreter": {
   "hash": "156f97338559f943403f33e84537dd86dcf56648dfdb9fdb0a1b5dc4083eb413"
  },
  "language_info": {
   "name": "python",
   "version": "3.8.10",
   "mimetype": "text/x-python",
   "codemirror_mode": {
    "name": "ipython",
    "version": 3
   },
   "pygments_lexer": "ipython3",
   "nbconvert_exporter": "python",
   "file_extension": ".py"
  }
 },
 "nbformat": 4,
 "nbformat_minor": 2
}